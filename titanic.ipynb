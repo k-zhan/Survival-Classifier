{
  "cells": [
    {
      "metadata": {
        "_uuid": "8f2839f25d086af736a60e9eeb907d3b93b6e0e5",
        "_cell_guid": "b1076dfc-b9ad-4769-8c92-a6c4dae69d19",
        "trusted": true
      },
      "cell_type": "code",
      "source": "import numpy as np\nimport pandas as pd \nimport seaborn as sns\nfrom sklearn.model_selection import train_test_split\nfrom sklearn.tree import DecisionTreeClassifier",
      "execution_count": null,
      "outputs": []
    },
    {
      "metadata": {
        "_cell_guid": "79c7e3d0-c299-4dcb-8224-4455121ee9b0",
        "_uuid": "d629ff2d2480ee46fbb7e2d37f6b5fab8052498a",
        "trusted": true
      },
      "cell_type": "code",
      "source": "train_data = pd.read_csv(\"../input/train.csv\")\n#test_data = pd.read_csv(\"../input/test.csv\")",
      "execution_count": null,
      "outputs": []
    },
    {
      "metadata": {
        "trusted": true,
        "_uuid": "901e392f60ba2af64e8085f1390dc45557becb00"
      },
      "cell_type": "code",
      "source": "train_data.head()",
      "execution_count": null,
      "outputs": []
    },
    {
      "metadata": {
        "_uuid": "025995a7268518591b4a7590e26cb41dff536f51"
      },
      "cell_type": "markdown",
      "source": "# Exploratory Data Analysis"
    },
    {
      "metadata": {
        "trusted": true,
        "_uuid": "20546362804b9ef93c0bcd11c3e735682ae4dea2"
      },
      "cell_type": "code",
      "source": "train_data.describe()",
      "execution_count": null,
      "outputs": []
    },
    {
      "metadata": {
        "trusted": true,
        "_uuid": "fccc26013d16a6ec85045fa97febb6a0f91c75b2"
      },
      "cell_type": "code",
      "source": "train_data[\"Sex\"].value_counts()",
      "execution_count": null,
      "outputs": []
    },
    {
      "metadata": {
        "_uuid": "22fd303d1e9d165935eeada05f3d25e0c170abb3"
      },
      "cell_type": "markdown",
      "source": "Note that we have more males than females"
    },
    {
      "metadata": {
        "trusted": true,
        "_uuid": "54781664511c380909e114b206921e814d6050b6"
      },
      "cell_type": "code",
      "source": "sns.countplot(x = \"Sex\", hue =\"Survived\",data = train_data, palette = \"Blues\");",
      "execution_count": null,
      "outputs": []
    },
    {
      "metadata": {
        "trusted": true,
        "_uuid": "6c66e1e2ca1f547ea3f9a6951231fd426704c475"
      },
      "cell_type": "code",
      "source": "sns.countplot(x = \"Pclass\", hue =\"Survived\",data = train_data, palette = \"Blues\");",
      "execution_count": null,
      "outputs": []
    },
    {
      "metadata": {
        "trusted": true,
        "_uuid": "b8122d9d651455f7eeab751a4ce3ba7fca7fe0a1"
      },
      "cell_type": "code",
      "source": "sns.countplot(x = \"Pclass\", hue =\"Sex\",data = train_data, palette = \"Blues\");",
      "execution_count": null,
      "outputs": []
    },
    {
      "metadata": {
        "trusted": true,
        "_uuid": "613a87239fa2a5848650b143372f2804b64f7d7e",
        "_kg_hide-output": true
      },
      "cell_type": "code",
      "source": "sns.barplot(x = \"Embarked\", y = \"Survived\", data = train_data)",
      "execution_count": null,
      "outputs": []
    },
    {
      "metadata": {
        "trusted": true,
        "_uuid": "ebca634e941f9511c7b2cea42719cce85a091ef3"
      },
      "cell_type": "code",
      "source": "features = [\"Pclass\",\"Sex\",\"Age\",\"Fare\",\"Parch\",\"SibSp\",\"Embarked\"]\ny = train_data[\"Survived\"]\ntrain_data = train_data[features]",
      "execution_count": null,
      "outputs": []
    },
    {
      "metadata": {
        "trusted": true,
        "_uuid": "cb54fe8ec2d9b1dd5afa7e22bcf27a6b79c3373f"
      },
      "cell_type": "code",
      "source": "train_data.isnull().sum()",
      "execution_count": null,
      "outputs": []
    },
    {
      "metadata": {
        "_kg_hide-output": true,
        "trusted": true,
        "_uuid": "e9b2630286ea40b494f23f3dcb3f5c9146ef0815"
      },
      "cell_type": "code",
      "source": "train_data['Age'].fillna(train_data['Age'].median(),inplace=True)",
      "execution_count": null,
      "outputs": []
    },
    {
      "metadata": {
        "trusted": true,
        "_uuid": "3f02027f85f2c4ccf3142843617650e36ba47cd8"
      },
      "cell_type": "code",
      "source": "train_data['Embarked'].fillna(train_data['Embarked'].value_counts().index[0], inplace=True)",
      "execution_count": null,
      "outputs": []
    },
    {
      "metadata": {
        "trusted": true,
        "_uuid": "b6b15ca4745cf5f96422c4073a6a5aa83448ded5"
      },
      "cell_type": "code",
      "source": "p = {1:'1st',2:'2nd',3:'3rd'} \ntrain_data['Pclass'] = train_data['Pclass'].map(p)",
      "execution_count": null,
      "outputs": []
    },
    {
      "metadata": {
        "trusted": true,
        "_uuid": "2fe1d36a6d6acfab97fb71a3a6ed8ef8d8858032"
      },
      "cell_type": "code",
      "source": "categorical_df = train_data[['Pclass','Sex','Embarked']]\none_hot_encode = pd.get_dummies(categorical_df,drop_first=True) \ntrain_data = train_data.drop(['Pclass','Sex','Embarked'],axis=1)\ntrain_data = pd.concat([train_data,one_hot_encode],axis=1)",
      "execution_count": null,
      "outputs": []
    },
    {
      "metadata": {
        "trusted": true,
        "_uuid": "2488f8e6b62e79f3bdfa1299c917318b04cbaf06"
      },
      "cell_type": "code",
      "source": "X = train_data\ntrain_X, test_X, train_y, test_y = train_test_split(X,y,random_state = 0)",
      "execution_count": null,
      "outputs": []
    },
    {
      "metadata": {
        "_uuid": "4b79e3f6c10bd791ac6fcf734e415206c6aacf1a"
      },
      "cell_type": "markdown",
      "source": "# Training Model"
    },
    {
      "metadata": {
        "trusted": true,
        "_uuid": "062eeab9b4f8885632eb8664dbd47d4a51f5ed29"
      },
      "cell_type": "code",
      "source": "\nclf = DecisionTreeClassifier()\nclf.fit(train_X,train_y)",
      "execution_count": null,
      "outputs": []
    },
    {
      "metadata": {
        "trusted": true,
        "_uuid": "d51df568f685d11aa043b2a3b355b2483e254b18"
      },
      "cell_type": "code",
      "source": "pred = clf.predict(test_X)",
      "execution_count": null,
      "outputs": []
    },
    {
      "metadata": {
        "trusted": true,
        "_uuid": "f0c254174965693a9caa26788764481530fe7cb3"
      },
      "cell_type": "code",
      "source": "from sklearn import metrics\nmetrics.accuracy_score(test_y, pred)",
      "execution_count": null,
      "outputs": []
    },
    {
      "metadata": {
        "trusted": true,
        "_uuid": "a0d00ef07afa9ec4c00f0d7731cfdb58712f6248"
      },
      "cell_type": "code",
      "source": "#my_submission = pd.DataFrame({'PassengerId': testingData.PassengerId, 'Survived': pred})",
      "execution_count": null,
      "outputs": []
    },
    {
      "metadata": {
        "trusted": true,
        "_uuid": "106c285acf3e11a12554215c4fd74a88b0d6c892"
      },
      "cell_type": "code",
      "source": "#my_submission.to_csv('submission.csv', index=False)",
      "execution_count": null,
      "outputs": []
    }
  ],
  "metadata": {
    "kernelspec": {
      "display_name": "Python 3",
      "language": "python",
      "name": "python3"
    },
    "language_info": {
      "name": "python",
      "version": "3.6.6",
      "mimetype": "text/x-python",
      "codemirror_mode": {
        "name": "ipython",
        "version": 3
      },
      "pygments_lexer": "ipython3",
      "nbconvert_exporter": "python",
      "file_extension": ".py"
    }
  },
  "nbformat": 4,
  "nbformat_minor": 1
}