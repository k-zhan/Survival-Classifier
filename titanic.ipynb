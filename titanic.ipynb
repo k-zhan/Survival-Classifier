{
  "cells": [
    {
      "metadata": {
        "_uuid": "8f2839f25d086af736a60e9eeb907d3b93b6e0e5",
        "_cell_guid": "b1076dfc-b9ad-4769-8c92-a6c4dae69d19",
        "trusted": true
      },
      "cell_type": "code",
      "source": "import numpy as np\nimport pandas as pd \nimport seaborn as sns\nfrom sklearn.model_selection import train_test_split\nfrom sklearn.tree import DecisionTreeClassifier",
      "execution_count": 170,
      "outputs": []
    },
    {
      "metadata": {
        "_cell_guid": "79c7e3d0-c299-4dcb-8224-4455121ee9b0",
        "_uuid": "d629ff2d2480ee46fbb7e2d37f6b5fab8052498a",
        "trusted": true
      },
      "cell_type": "code",
      "source": "train_data = pd.read_csv(\"../input/train.csv\")\n#test_data = pd.read_csv(\"../input/test.csv\")",
      "execution_count": 171,
      "outputs": []
    },
    {
      "metadata": {
        "trusted": true,
        "_uuid": "901e392f60ba2af64e8085f1390dc45557becb00"
      },
      "cell_type": "code",
      "source": "train_data.head()",
      "execution_count": 172,
      "outputs": [
        {
          "output_type": "execute_result",
          "execution_count": 172,
          "data": {
            "text/plain": "   PassengerId  Survived  Pclass    ...        Fare Cabin  Embarked\n0            1         0       3    ...      7.2500   NaN         S\n1            2         1       1    ...     71.2833   C85         C\n2            3         1       3    ...      7.9250   NaN         S\n3            4         1       1    ...     53.1000  C123         S\n4            5         0       3    ...      8.0500   NaN         S\n\n[5 rows x 12 columns]",
            "text/html": "<div>\n<style scoped>\n    .dataframe tbody tr th:only-of-type {\n        vertical-align: middle;\n    }\n\n    .dataframe tbody tr th {\n        vertical-align: top;\n    }\n\n    .dataframe thead th {\n        text-align: right;\n    }\n</style>\n<table border=\"1\" class=\"dataframe\">\n  <thead>\n    <tr style=\"text-align: right;\">\n      <th></th>\n      <th>PassengerId</th>\n      <th>Survived</th>\n      <th>Pclass</th>\n      <th>Name</th>\n      <th>Sex</th>\n      <th>Age</th>\n      <th>SibSp</th>\n      <th>Parch</th>\n      <th>Ticket</th>\n      <th>Fare</th>\n      <th>Cabin</th>\n      <th>Embarked</th>\n    </tr>\n  </thead>\n  <tbody>\n    <tr>\n      <th>0</th>\n      <td>1</td>\n      <td>0</td>\n      <td>3</td>\n      <td>Braund, Mr. Owen Harris</td>\n      <td>male</td>\n      <td>22.0</td>\n      <td>1</td>\n      <td>0</td>\n      <td>A/5 21171</td>\n      <td>7.2500</td>\n      <td>NaN</td>\n      <td>S</td>\n    </tr>\n    <tr>\n      <th>1</th>\n      <td>2</td>\n      <td>1</td>\n      <td>1</td>\n      <td>Cumings, Mrs. John Bradley (Florence Briggs Th...</td>\n      <td>female</td>\n      <td>38.0</td>\n      <td>1</td>\n      <td>0</td>\n      <td>PC 17599</td>\n      <td>71.2833</td>\n      <td>C85</td>\n      <td>C</td>\n    </tr>\n    <tr>\n      <th>2</th>\n      <td>3</td>\n      <td>1</td>\n      <td>3</td>\n      <td>Heikkinen, Miss. Laina</td>\n      <td>female</td>\n      <td>26.0</td>\n      <td>0</td>\n      <td>0</td>\n      <td>STON/O2. 3101282</td>\n      <td>7.9250</td>\n      <td>NaN</td>\n      <td>S</td>\n    </tr>\n    <tr>\n      <th>3</th>\n      <td>4</td>\n      <td>1</td>\n      <td>1</td>\n      <td>Futrelle, Mrs. Jacques Heath (Lily May Peel)</td>\n      <td>female</td>\n      <td>35.0</td>\n      <td>1</td>\n      <td>0</td>\n      <td>113803</td>\n      <td>53.1000</td>\n      <td>C123</td>\n      <td>S</td>\n    </tr>\n    <tr>\n      <th>4</th>\n      <td>5</td>\n      <td>0</td>\n      <td>3</td>\n      <td>Allen, Mr. William Henry</td>\n      <td>male</td>\n      <td>35.0</td>\n      <td>0</td>\n      <td>0</td>\n      <td>373450</td>\n      <td>8.0500</td>\n      <td>NaN</td>\n      <td>S</td>\n    </tr>\n  </tbody>\n</table>\n</div>"
          },
          "metadata": {}
        }
      ]
    },
    {
      "metadata": {
        "_uuid": "025995a7268518591b4a7590e26cb41dff536f51"
      },
      "cell_type": "markdown",
      "source": "# Exploratory Data Analysis"
    },
    {
      "metadata": {
        "trusted": true,
        "_uuid": "20546362804b9ef93c0bcd11c3e735682ae4dea2"
      },
      "cell_type": "code",
      "source": "train_data.describe()",
      "execution_count": 173,
      "outputs": [
        {
          "output_type": "execute_result",
          "execution_count": 173,
          "data": {
            "text/plain": "       PassengerId    Survived     ...           Parch        Fare\ncount   891.000000  891.000000     ...      891.000000  891.000000\nmean    446.000000    0.383838     ...        0.381594   32.204208\nstd     257.353842    0.486592     ...        0.806057   49.693429\nmin       1.000000    0.000000     ...        0.000000    0.000000\n25%     223.500000    0.000000     ...        0.000000    7.910400\n50%     446.000000    0.000000     ...        0.000000   14.454200\n75%     668.500000    1.000000     ...        0.000000   31.000000\nmax     891.000000    1.000000     ...        6.000000  512.329200\n\n[8 rows x 7 columns]",
            "text/html": "<div>\n<style scoped>\n    .dataframe tbody tr th:only-of-type {\n        vertical-align: middle;\n    }\n\n    .dataframe tbody tr th {\n        vertical-align: top;\n    }\n\n    .dataframe thead th {\n        text-align: right;\n    }\n</style>\n<table border=\"1\" class=\"dataframe\">\n  <thead>\n    <tr style=\"text-align: right;\">\n      <th></th>\n      <th>PassengerId</th>\n      <th>Survived</th>\n      <th>Pclass</th>\n      <th>Age</th>\n      <th>SibSp</th>\n      <th>Parch</th>\n      <th>Fare</th>\n    </tr>\n  </thead>\n  <tbody>\n    <tr>\n      <th>count</th>\n      <td>891.000000</td>\n      <td>891.000000</td>\n      <td>891.000000</td>\n      <td>714.000000</td>\n      <td>891.000000</td>\n      <td>891.000000</td>\n      <td>891.000000</td>\n    </tr>\n    <tr>\n      <th>mean</th>\n      <td>446.000000</td>\n      <td>0.383838</td>\n      <td>2.308642</td>\n      <td>29.699118</td>\n      <td>0.523008</td>\n      <td>0.381594</td>\n      <td>32.204208</td>\n    </tr>\n    <tr>\n      <th>std</th>\n      <td>257.353842</td>\n      <td>0.486592</td>\n      <td>0.836071</td>\n      <td>14.526497</td>\n      <td>1.102743</td>\n      <td>0.806057</td>\n      <td>49.693429</td>\n    </tr>\n    <tr>\n      <th>min</th>\n      <td>1.000000</td>\n      <td>0.000000</td>\n      <td>1.000000</td>\n      <td>0.420000</td>\n      <td>0.000000</td>\n      <td>0.000000</td>\n      <td>0.000000</td>\n    </tr>\n    <tr>\n      <th>25%</th>\n      <td>223.500000</td>\n      <td>0.000000</td>\n      <td>2.000000</td>\n      <td>20.125000</td>\n      <td>0.000000</td>\n      <td>0.000000</td>\n      <td>7.910400</td>\n    </tr>\n    <tr>\n      <th>50%</th>\n      <td>446.000000</td>\n      <td>0.000000</td>\n      <td>3.000000</td>\n      <td>28.000000</td>\n      <td>0.000000</td>\n      <td>0.000000</td>\n      <td>14.454200</td>\n    </tr>\n    <tr>\n      <th>75%</th>\n      <td>668.500000</td>\n      <td>1.000000</td>\n      <td>3.000000</td>\n      <td>38.000000</td>\n      <td>1.000000</td>\n      <td>0.000000</td>\n      <td>31.000000</td>\n    </tr>\n    <tr>\n      <th>max</th>\n      <td>891.000000</td>\n      <td>1.000000</td>\n      <td>3.000000</td>\n      <td>80.000000</td>\n      <td>8.000000</td>\n      <td>6.000000</td>\n      <td>512.329200</td>\n    </tr>\n  </tbody>\n</table>\n</div>"
          },
          "metadata": {}
        }
      ]
    },
    {
      "metadata": {
        "trusted": true,
        "_uuid": "fccc26013d16a6ec85045fa97febb6a0f91c75b2"
      },
      "cell_type": "code",
      "source": "train_data[\"Sex\"].value_counts()",
      "execution_count": 174,
      "outputs": [
        {
          "output_type": "execute_result",
          "execution_count": 174,
          "data": {
            "text/plain": "male      577\nfemale    314\nName: Sex, dtype: int64"
          },
          "metadata": {}
        }
      ]
    },
    {
      "metadata": {
        "_uuid": "22fd303d1e9d165935eeada05f3d25e0c170abb3"
      },
      "cell_type": "markdown",
      "source": "Note that we have more males than females"
    },
    {
      "metadata": {
        "trusted": true,
        "_uuid": "54781664511c380909e114b206921e814d6050b6"
      },
      "cell_type": "code",
      "source": "sns.countplot(x = \"Sex\", hue =\"Survived\",data = train_data, palette = \"Blues\");",
      "execution_count": 175,
      "outputs": [
        {
          "output_type": "display_data",
          "data": {
            "text/plain": "<Figure size 432x288 with 1 Axes>",
            "image/png": "[encoded data removed]"
          },
          "metadata": {}
        }
      ]
    },
    {
      "metadata": {
        "trusted": true,
        "_uuid": "6c66e1e2ca1f547ea3f9a6951231fd426704c475"
      },
      "cell_type": "code",
      "source": "sns.countplot(x = \"Pclass\", hue =\"Survived\",data = train_data, palette = \"Blues\");",
      "execution_count": 176,
      "outputs": [
        {
          "output_type": "display_data",
          "data": {
            "text/plain": "<Figure size 432x288 with 1 Axes>",
            "image/png": "[encoded data removed]"
          },
          "metadata": {}
        }
      ]
    },
    {
      "metadata": {
        "trusted": true,
        "_uuid": "b8122d9d651455f7eeab751a4ce3ba7fca7fe0a1"
      },
      "cell_type": "code",
      "source": "sns.countplot(x = \"Pclass\", hue =\"Sex\",data = train_data, palette = \"Blues\");",
      "execution_count": 177,
      "outputs": [
        {
          "output_type": "display_data",
          "data": {
            "text/plain": "<Figure size 432x288 with 1 Axes>",
            "image/png": "[encoded data removed]"
          },
          "metadata": {}
        }
      ]
    },
    {
      "metadata": {
        "trusted": true,
        "_uuid": "613a87239fa2a5848650b143372f2804b64f7d7e",
        "_kg_hide-output": true
      },
      "cell_type": "code",
      "source": "sns.barplot(x = \"Embarked\", y = \"Survived\", data = train_data)",
      "execution_count": 178,
      "outputs": [
        {
          "output_type": "stream",
          "text": "/opt/conda/lib/python3.6/site-packages/scipy/stats/stats.py:1713: FutureWarning: Using a non-tuple sequence for multidimensional indexing is deprecated; use `arr[tuple(seq)]` instead of `arr[seq]`. In the future this will be interpreted as an array index, `arr[np.array(seq)]`, which will result either in an error or a different result.\n  return np.add.reduce(sorted[indexer] * weights, axis=axis) / sumval\n",
          "name": "stderr"
        },
        {
          "output_type": "execute_result",
          "execution_count": 178,
          "data": {
            "text/plain": "<matplotlib.axes._subplots.AxesSubplot at 0x7f50980c7c88>"
          },
          "metadata": {}
        },
        {
          "output_type": "display_data",
          "data": {
            "text/plain": "<Figure size 432x288 with 1 Axes>",
            "image/png": "[encoded data removed]"
          },
          "metadata": {}
        }
      ]
    },
    {
      "metadata": {
        "trusted": true,
        "_uuid": "ebca634e941f9511c7b2cea42719cce85a091ef3"
      },
      "cell_type": "code",
      "source": "features = [\"Pclass\",\"Sex\",\"Age\",\"Fare\",\"Parch\",\"SibSp\",\"Embarked\"]\ny = train_data[\"Survived\"]\ntrain_data = train_data[features]",
      "execution_count": 179,
      "outputs": []
    },
    {
      "metadata": {
        "trusted": true,
        "_uuid": "cb54fe8ec2d9b1dd5afa7e22bcf27a6b79c3373f"
      },
      "cell_type": "code",
      "source": "train_data.isnull().sum()",
      "execution_count": 180,
      "outputs": [
        {
          "output_type": "execute_result",
          "execution_count": 180,
          "data": {
            "text/plain": "Pclass        0\nSex           0\nAge         177\nFare          0\nParch         0\nSibSp         0\nEmbarked      2\ndtype: int64"
          },
          "metadata": {}
        }
      ]
    },
    {
      "metadata": {
        "_kg_hide-output": true,
        "trusted": true,
        "_uuid": "e9b2630286ea40b494f23f3dcb3f5c9146ef0815"
      },
      "cell_type": "code",
      "source": "train_data['Age'].fillna(train_data['Age'].median(),inplace=True)",
      "execution_count": 181,
      "outputs": []
    },
    {
      "metadata": {
        "trusted": true,
        "_uuid": "3f02027f85f2c4ccf3142843617650e36ba47cd8"
      },
      "cell_type": "code",
      "source": "train_data['Embarked'].fillna(train_data['Embarked'].value_counts().index[0], inplace=True)",
      "execution_count": 182,
      "outputs": []
    },
    {
      "metadata": {
        "trusted": true,
        "_uuid": "b6b15ca4745cf5f96422c4073a6a5aa83448ded5"
      },
      "cell_type": "code",
      "source": "p = {1:'1st',2:'2nd',3:'3rd'} \ntrain_data['Pclass'] = train_data['Pclass'].map(p)",
      "execution_count": 183,
      "outputs": []
    },
    {
      "metadata": {
        "trusted": true,
        "_uuid": "2fe1d36a6d6acfab97fb71a3a6ed8ef8d8858032"
      },
      "cell_type": "code",
      "source": "categorical_df = train_data[['Pclass','Sex','Embarked']]\none_hot_encode = pd.get_dummies(categorical_df,drop_first=True) \ntrain_data = train_data.drop(['Pclass','Sex','Embarked'],axis=1)\ntrain_data = pd.concat([train_data,one_hot_encode],axis=1)",
      "execution_count": 184,
      "outputs": []
    },
    {
      "metadata": {
        "trusted": true,
        "_uuid": "2488f8e6b62e79f3bdfa1299c917318b04cbaf06"
      },
      "cell_type": "code",
      "source": "X = train_data\ntrain_X, test_X, train_y, test_y = train_test_split(X,y,random_state = 0)",
      "execution_count": 185,
      "outputs": []
    },
    {
      "metadata": {
        "_uuid": "4b79e3f6c10bd791ac6fcf734e415206c6aacf1a"
      },
      "cell_type": "markdown",
      "source": "# Training Model"
    },
    {
      "metadata": {
        "trusted": true,
        "_uuid": "062eeab9b4f8885632eb8664dbd47d4a51f5ed29"
      },
      "cell_type": "code",
      "source": "\nclf = DecisionTreeClassifier()\nclf.fit(train_X,train_y)",
      "execution_count": 186,
      "outputs": [
        {
          "output_type": "execute_result",
          "execution_count": 186,
          "data": {
            "text/plain": "DecisionTreeClassifier(class_weight=None, criterion='gini', max_depth=None,\n            max_features=None, max_leaf_nodes=None,\n            min_impurity_decrease=0.0, min_impurity_split=None,\n            min_samples_leaf=1, min_samples_split=2,\n            min_weight_fraction_leaf=0.0, presort=False, random_state=None,\n            splitter='best')"
          },
          "metadata": {}
        }
      ]
    },
    {
      "metadata": {
        "trusted": true,
        "_uuid": "d51df568f685d11aa043b2a3b355b2483e254b18"
      },
      "cell_type": "code",
      "source": "pred = clf.predict(test_X)",
      "execution_count": 187,
      "outputs": []
    },
    {
      "metadata": {
        "trusted": true,
        "_uuid": "f0c254174965693a9caa26788764481530fe7cb3"
      },
      "cell_type": "code",
      "source": "from sklearn import metrics\nmetrics.accuracy_score(test_y, pred)",
      "execution_count": 188,
      "outputs": [
        {
          "output_type": "execute_result",
          "execution_count": 188,
          "data": {
            "text/plain": "0.7892376681614349"
          },
          "metadata": {}
        }
      ]
    },
    {
      "metadata": {
        "trusted": true,
        "_uuid": "a0d00ef07afa9ec4c00f0d7731cfdb58712f6248"
      },
      "cell_type": "code",
      "source": "#my_submission = pd.DataFrame({'PassengerId': testingData.PassengerId, 'Survived': pred})",
      "execution_count": 189,
      "outputs": []
    },
    {
      "metadata": {
        "trusted": true,
        "_uuid": "106c285acf3e11a12554215c4fd74a88b0d6c892"
      },
      "cell_type": "code",
      "source": "#my_submission.to_csv('submission.csv', index=False)",
      "execution_count": 190,
      "outputs": []
    }
  ],
  "metadata": {
    "kernelspec": {
      "display_name": "Python 3",
      "language": "python",
      "name": "python3"
    },
    "language_info": {
      "name": "python",
      "version": "3.6.6",
      "mimetype": "text/x-python",
      "codemirror_mode": {
        "name": "ipython",
        "version": 3
      },
      "pygments_lexer": "ipython3",
      "nbconvert_exporter": "python",
      "file_extension": ".py"
    }
  },
  "nbformat": 4,
  "nbformat_minor": 1
}